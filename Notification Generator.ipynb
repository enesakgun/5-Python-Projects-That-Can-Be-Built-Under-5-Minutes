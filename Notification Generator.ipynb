{
 "cells": [
  {
   "cell_type": "code",
   "execution_count": 1,
   "id": "b8d4beae",
   "metadata": {},
   "outputs": [
    {
     "name": "stdout",
     "output_type": "stream",
     "text": [
      "Collecting win10toast\n",
      "  Downloading win10toast-0.9-py2.py3-none-any.whl (21 kB)\n",
      "Requirement already satisfied: setuptools in c:\\users\\enesa\\anaconda3\\lib\\site-packages (from win10toast) (58.0.4)\n",
      "Collecting pypiwin32\n",
      "  Downloading pypiwin32-223-py3-none-any.whl (1.7 kB)\n",
      "Requirement already satisfied: pywin32>=223 in c:\\users\\enesa\\anaconda3\\lib\\site-packages (from pypiwin32->win10toast) (228)\n",
      "Installing collected packages: pypiwin32, win10toast\n",
      "Successfully installed pypiwin32-223 win10toast-0.9\n"
     ]
    }
   ],
   "source": [
    "!pip install win10toast"
   ]
  },
  {
   "cell_type": "code",
   "execution_count": 6,
   "id": "2ea0d1cb",
   "metadata": {},
   "outputs": [],
   "source": [
    "from win10toast import ToastNotifier\n",
    "def windows_popup(title,content,duration=10):\n",
    "    toast=ToastNotifier()\n",
    "    toast.show_toast(title,content,duration=duration)\n",
    "\n",
    "if __name__ == '__main__':\n",
    "    windows_popup(\"Napayisun\",\"Enes\")"
   ]
  },
  {
   "cell_type": "code",
   "execution_count": null,
   "id": "afb13fd9",
   "metadata": {},
   "outputs": [],
   "source": []
  }
 ],
 "metadata": {
  "kernelspec": {
   "display_name": "Python 3 (ipykernel)",
   "language": "python",
   "name": "python3"
  },
  "language_info": {
   "codemirror_mode": {
    "name": "ipython",
    "version": 3
   },
   "file_extension": ".py",
   "mimetype": "text/x-python",
   "name": "python",
   "nbconvert_exporter": "python",
   "pygments_lexer": "ipython3",
   "version": "3.9.7"
  }
 },
 "nbformat": 4,
 "nbformat_minor": 5
}
