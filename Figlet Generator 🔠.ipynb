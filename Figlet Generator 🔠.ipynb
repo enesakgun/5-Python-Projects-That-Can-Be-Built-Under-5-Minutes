{
 "cells": [
  {
   "cell_type": "code",
   "execution_count": 1,
   "id": "b5b930cc",
   "metadata": {},
   "outputs": [
    {
     "name": "stdout",
     "output_type": "stream",
     "text": [
      "Collecting pyfiglet\n",
      "  Downloading pyfiglet-0.8.post1-py2.py3-none-any.whl (865 kB)\n",
      "Installing collected packages: pyfiglet\n",
      "Successfully installed pyfiglet-0.8.post1\n"
     ]
    }
   ],
   "source": [
    "!pip install pyfiglet"
   ]
  },
  {
   "cell_type": "code",
   "execution_count": 4,
   "id": "2c3512ad",
   "metadata": {},
   "outputs": [
    {
     "name": "stdout",
     "output_type": "stream",
     "text": [
      "    __  ___      __                                   __ \n",
      "   /  |/  /_  __/ /_  ____ _____ ___  ____ ___  ___  / /_\n",
      "  / /|_/ / / / / __ \\/ __ `/ __ `__ \\/ __ `__ \\/ _ \\/ __/\n",
      " / /  / / /_/ / / / / /_/ / / / / / / / / / / /  __/ /_  \n",
      "/_/  /_/\\__,_/_/ /_/\\__,_/_/ /_/ /_/_/ /_/ /_/\\___/\\__/  \n",
      "                                                         \n",
      "    ______                   ___    __                   \n",
      "   / ____/___  ___  _____   /   |  / /______ ___  ______ \n",
      "  / __/ / __ \\/ _ \\/ ___/  / /| | / //_/ __ `/ / / / __ \\\n",
      " / /___/ / / /  __(__  )  / ___ |/ ,< / /_/ / /_/ / / / /\n",
      "/_____/_/ /_/\\___/____/  /_/  |_/_/|_|\\__, /\\__,_/_/ /_/ \n",
      "                                     /____/              \n",
      "\n"
     ]
    }
   ],
   "source": [
    "import pyfiglet\n",
    "result = pyfiglet.figlet_format(\"Muhammet Enes Akgun\", font = \"slant\")\n",
    "print(result)"
   ]
  },
  {
   "cell_type": "code",
   "execution_count": null,
   "id": "5a91abc2",
   "metadata": {},
   "outputs": [],
   "source": []
  }
 ],
 "metadata": {
  "kernelspec": {
   "display_name": "Python 3 (ipykernel)",
   "language": "python",
   "name": "python3"
  },
  "language_info": {
   "codemirror_mode": {
    "name": "ipython",
    "version": 3
   },
   "file_extension": ".py",
   "mimetype": "text/x-python",
   "name": "python",
   "nbconvert_exporter": "python",
   "pygments_lexer": "ipython3",
   "version": "3.9.7"
  }
 },
 "nbformat": 4,
 "nbformat_minor": 5
}
