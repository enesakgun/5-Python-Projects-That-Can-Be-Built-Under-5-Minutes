{
 "cells": [
  {
   "cell_type": "code",
   "execution_count": 1,
   "id": "c0897aea",
   "metadata": {},
   "outputs": [
    {
     "name": "stdout",
     "output_type": "stream",
     "text": [
      "Requirement already satisfied: psutil in c:\\users\\enesa\\anaconda3\\lib\\site-packages (5.8.0)\n"
     ]
    }
   ],
   "source": [
    "!pip install psutil"
   ]
  },
  {
   "cell_type": "code",
   "execution_count": 2,
   "id": "bd726e45",
   "metadata": {},
   "outputs": [],
   "source": [
    "import psutil"
   ]
  },
  {
   "cell_type": "code",
   "execution_count": 5,
   "id": "2a2706c1",
   "metadata": {},
   "outputs": [],
   "source": [
    "battery = psutil.sensors_battery()\n",
    "percent = str(battery.percent)"
   ]
  },
  {
   "cell_type": "code",
   "execution_count": 6,
   "id": "67d04a33",
   "metadata": {},
   "outputs": [
    {
     "name": "stdout",
     "output_type": "stream",
     "text": [
      "Battery Percent= 91%\n"
     ]
    }
   ],
   "source": [
    "print(\"Battery Percent= \" + percent + \"%\")"
   ]
  },
  {
   "cell_type": "code",
   "execution_count": 7,
   "id": "96872453",
   "metadata": {},
   "outputs": [
    {
     "name": "stdout",
     "output_type": "stream",
     "text": [
      "Battery percentage :  94\n",
      "Power plugged in :  True\n",
      "Battery left :  -1:59:58\n"
     ]
    }
   ],
   "source": [
    "# python script showing battery details\n",
    "import psutil\n",
    "\n",
    "# function returning time in hh:mm:ss\n",
    "def convertTime(seconds):\n",
    "\tminutes, seconds = divmod(seconds, 60)\n",
    "\thours, minutes = divmod(minutes, 60)\n",
    "\treturn \"%d:%02d:%02d\" % (hours, minutes, seconds)\n",
    "\n",
    "# returns a tuple\n",
    "battery = psutil.sensors_battery()\n",
    "\n",
    "print(\"Battery percentage : \", battery.percent)\n",
    "print(\"Power plugged in : \", battery.power_plugged)\n",
    "\n",
    "# converting seconds to hh:mm:ss\n",
    "print(\"Battery left : \", convertTime(battery.secsleft))\n"
   ]
  },
  {
   "cell_type": "code",
   "execution_count": null,
   "id": "6992e83d",
   "metadata": {},
   "outputs": [],
   "source": []
  }
 ],
 "metadata": {
  "kernelspec": {
   "display_name": "Python 3 (ipykernel)",
   "language": "python",
   "name": "python3"
  },
  "language_info": {
   "codemirror_mode": {
    "name": "ipython",
    "version": 3
   },
   "file_extension": ".py",
   "mimetype": "text/x-python",
   "name": "python",
   "nbconvert_exporter": "python",
   "pygments_lexer": "ipython3",
   "version": "3.9.7"
  }
 },
 "nbformat": 4,
 "nbformat_minor": 5
}
